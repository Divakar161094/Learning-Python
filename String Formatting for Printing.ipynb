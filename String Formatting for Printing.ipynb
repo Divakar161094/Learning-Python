{
 "cells": [
  {
   "cell_type": "markdown",
   "metadata": {},
   "source": [
    "Formatting with the .format() method\n",
    "\n",
    "Syntax:\n",
    "\n",
    "'String here{} then also {}format('something1','something2')"
   ]
  },
  {
   "cell_type": "code",
   "execution_count": 1,
   "metadata": {},
   "outputs": [
    {
     "name": "stdout",
     "output_type": "stream",
     "text": [
      "This is a string good\n"
     ]
    }
   ],
   "source": [
    "print(\"This is a string {}\".format(\"good\"))"
   ]
  },
  {
   "cell_type": "code",
   "execution_count": 3,
   "metadata": {},
   "outputs": [
    {
     "name": "stdout",
     "output_type": "stream",
     "text": [
      "hhn hmm sum\n"
     ]
    }
   ],
   "source": [
    "print(\"{} {} {}\".format(\"hhn\",\"hmm\",\"sum\"))"
   ]
  },
  {
   "cell_type": "code",
   "execution_count": 4,
   "metadata": {},
   "outputs": [
    {
     "name": "stdout",
     "output_type": "stream",
     "text": [
      "hi hello nice\n"
     ]
    }
   ],
   "source": [
    "print(\"{} {} {}\".format(\"hi\",\"hello\",\"nice\") )"
   ]
  },
  {
   "cell_type": "code",
   "execution_count": 5,
   "metadata": {},
   "outputs": [
    {
     "name": "stdout",
     "output_type": "stream",
     "text": [
      "nice hello hi\n"
     ]
    }
   ],
   "source": [
    "print(\"{2} {1} {0}\".format(\"hi\",\"hello\",\"nice\") )"
   ]
  },
  {
   "cell_type": "code",
   "execution_count": 6,
   "metadata": {},
   "outputs": [
    {
     "name": "stdout",
     "output_type": "stream",
     "text": [
      "hello nice hi\n"
     ]
    }
   ],
   "source": [
    "print(\"{1} {2} {0}\".format(\"hi\",\"hello\",\"nice\") )"
   ]
  },
  {
   "cell_type": "code",
   "execution_count": 9,
   "metadata": {},
   "outputs": [
    {
     "name": "stdout",
     "output_type": "stream",
     "text": [
      "no say for\n"
     ]
    }
   ],
   "source": [
    "print(\"{e} {q} {z}\".format(q = \"say\", e = \"no\", z = \"for\"))"
   ]
  },
  {
   "cell_type": "code",
   "execution_count": 10,
   "metadata": {},
   "outputs": [
    {
     "name": "stdout",
     "output_type": "stream",
     "text": [
      "hello hello hello\n"
     ]
    }
   ],
   "source": [
    "print(\"{1} {1} {1}\".format(\"hi\",\"hello\",\"nice\") )"
   ]
  },
  {
   "cell_type": "code",
   "execution_count": 12,
   "metadata": {},
   "outputs": [
    {
     "name": "stdout",
     "output_type": "stream",
     "text": [
      "you you you\n"
     ]
    }
   ],
   "source": [
    "print(\"{q} {q} {q}\".format(q = \"you\", f = \"and\", e = \"hmm\"))"
   ]
  },
  {
   "cell_type": "code",
   "execution_count": 13,
   "metadata": {},
   "outputs": [],
   "source": [
    "result = 100/77"
   ]
  },
  {
   "cell_type": "code",
   "execution_count": 14,
   "metadata": {},
   "outputs": [
    {
     "data": {
      "text/plain": [
       "1.2987012987012987"
      ]
     },
     "execution_count": 14,
     "metadata": {},
     "output_type": "execute_result"
    }
   ],
   "source": [
    "result"
   ]
  },
  {
   "cell_type": "code",
   "execution_count": 17,
   "metadata": {},
   "outputs": [
    {
     "name": "stdout",
     "output_type": "stream",
     "text": [
      "This is result 1.2987012987012987\n"
     ]
    }
   ],
   "source": [
    "print(\"This is result {e}\".format(e = result))"
   ]
  },
  {
   "cell_type": "code",
   "execution_count": 18,
   "metadata": {},
   "outputs": [
    {
     "name": "stdout",
     "output_type": "stream",
     "text": [
      "This is result 1.2987012987012987\n"
     ]
    }
   ],
   "source": [
    "print(\"This is result {}\".format(result))"
   ]
  },
  {
   "cell_type": "code",
   "execution_count": 19,
   "metadata": {},
   "outputs": [
    {
     "name": "stdout",
     "output_type": "stream",
     "text": [
      "This is result 1.2987\n"
     ]
    }
   ],
   "source": [
    "print(\"This is result {r:1.4f}\".format(r = result))"
   ]
  },
  {
   "cell_type": "code",
   "execution_count": 20,
   "metadata": {},
   "outputs": [],
   "source": [
    "name = \"karan\""
   ]
  },
  {
   "cell_type": "code",
   "execution_count": 21,
   "metadata": {},
   "outputs": [
    {
     "name": "stdout",
     "output_type": "stream",
     "text": [
      "This is name karan\n"
     ]
    }
   ],
   "source": [
    "print(f\"This is name {name}\")"
   ]
  },
  {
   "cell_type": "code",
   "execution_count": 23,
   "metadata": {},
   "outputs": [
    {
     "name": "stdout",
     "output_type": "stream",
     "text": [
      "This is name Sam and age 34\n"
     ]
    }
   ],
   "source": [
    "name = \"Sam\"\n",
    "age = 34\n",
    "\n",
    "print(f\"This is name {name} and age {age}\")"
   ]
  },
  {
   "cell_type": "code",
   "execution_count": null,
   "metadata": {},
   "outputs": [],
   "source": []
  },
  {
   "cell_type": "code",
   "execution_count": null,
   "metadata": {},
   "outputs": [],
   "source": []
  }
 ],
 "metadata": {
  "kernelspec": {
   "display_name": "Python 3",
   "language": "python",
   "name": "python3"
  },
  "language_info": {
   "codemirror_mode": {
    "name": "ipython",
    "version": 3
   },
   "file_extension": ".py",
   "mimetype": "text/x-python",
   "name": "python",
   "nbconvert_exporter": "python",
   "pygments_lexer": "ipython3",
   "version": "3.6.4"
  }
 },
 "nbformat": 4,
 "nbformat_minor": 2
}
