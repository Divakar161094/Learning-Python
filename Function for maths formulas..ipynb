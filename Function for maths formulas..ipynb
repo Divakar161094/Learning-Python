{
 "cells": [
  {
   "cell_type": "markdown",
   "metadata": {},
   "source": [
    "## Find area of Square."
   ]
  },
  {
   "cell_type": "markdown",
   "metadata": {},
   "source": [
    "Formula: Area = width × height."
   ]
  },
  {
   "cell_type": "code",
   "execution_count": 10,
   "metadata": {},
   "outputs": [],
   "source": [
    "def area_of_square(width,height):\n",
    "    if  width == height:\n",
    "        return width * height\n",
    "    else:\n",
    "        return 'Enter valid width and height.'    "
   ]
  },
  {
   "cell_type": "code",
   "execution_count": 11,
   "metadata": {},
   "outputs": [
    {
     "name": "stdout",
     "output_type": "stream",
     "text": [
      "Area of Square:  4\n"
     ]
    }
   ],
   "source": [
    "print('Area of Square: ' , area_of_square(2,2))"
   ]
  },
  {
   "cell_type": "code",
   "execution_count": 14,
   "metadata": {},
   "outputs": [
    {
     "name": "stdout",
     "output_type": "stream",
     "text": [
      "Area of Square:  16\n"
     ]
    }
   ],
   "source": [
    "print('Area of Square: ' , area_of_square(4,4))"
   ]
  },
  {
   "cell_type": "markdown",
   "metadata": {},
   "source": [
    "## Auther way of Finding area of square."
   ]
  },
  {
   "cell_type": "markdown",
   "metadata": {},
   "source": [
    "Formula: Area = s square(2)."
   ]
  },
  {
   "cell_type": "code",
   "execution_count": 16,
   "metadata": {},
   "outputs": [],
   "source": [
    "def area_of_square2(s):\n",
    "    return s ** 2"
   ]
  },
  {
   "cell_type": "code",
   "execution_count": 18,
   "metadata": {},
   "outputs": [
    {
     "name": "stdout",
     "output_type": "stream",
     "text": [
      "Area of Square:  16\n",
      "Area of Square:  1156\n"
     ]
    }
   ],
   "source": [
    "print('Area of Square: ' , area_of_square2(4))\n",
    "print('Area of Square: ' , area_of_square2(34))"
   ]
  },
  {
   "cell_type": "markdown",
   "metadata": {},
   "source": [
    "## Find area of Circle."
   ]
  },
  {
   "cell_type": "markdown",
   "metadata": {},
   "source": [
    "Formula: Area = π (radius)2"
   ]
  },
  {
   "cell_type": "code",
   "execution_count": 19,
   "metadata": {},
   "outputs": [],
   "source": [
    "import math\n",
    "\n",
    "# Value of math.pi = 3.141592653589793.\n",
    "\n",
    "def area_of_circle(r):\n",
    "    return math.pi * r ** 2"
   ]
  },
  {
   "cell_type": "code",
   "execution_count": 22,
   "metadata": {},
   "outputs": [
    {
     "name": "stdout",
     "output_type": "stream",
     "text": [
      "Area of Circle:  50.26548245743669\n",
      "Area of Circle:  3631.681107549801\n"
     ]
    }
   ],
   "source": [
    "print('Area of Circle: ' , area_of_circle(4))\n",
    "print('Area of Circle: ' , area_of_circle(34))"
   ]
  },
  {
   "cell_type": "markdown",
   "metadata": {},
   "source": [
    "## Find area of Triangle.\n",
    "\n",
    "Formula: Area=1/2(base*height)"
   ]
  },
  {
   "cell_type": "code",
   "execution_count": 23,
   "metadata": {},
   "outputs": [],
   "source": [
    "def area_of_Triangle(base,height):\n",
    "    return 1 / 2 * base * height"
   ]
  },
  {
   "cell_type": "code",
   "execution_count": 25,
   "metadata": {},
   "outputs": [
    {
     "name": "stdout",
     "output_type": "stream",
     "text": [
      "Area of Triangle:  8.0\n",
      "Area of Triangle:  51.0\n"
     ]
    }
   ],
   "source": [
    "print('Area of Triangle: ' , area_of_Triangle(4,4))\n",
    "print('Area of Triangle: ' , area_of_Triangle(34,3))"
   ]
  },
  {
   "cell_type": "markdown",
   "metadata": {},
   "source": [
    "## Find area of Rectangle.\n",
    "\n",
    "Formula: Area = w × h"
   ]
  },
  {
   "cell_type": "code",
   "execution_count": 26,
   "metadata": {},
   "outputs": [],
   "source": [
    "def area_of_Rectangle(width,height):\n",
    "    return width * height"
   ]
  },
  {
   "cell_type": "code",
   "execution_count": 27,
   "metadata": {},
   "outputs": [
    {
     "name": "stdout",
     "output_type": "stream",
     "text": [
      "Area of Rectangle:  18\n",
      "Area of Rectangle:  8\n"
     ]
    }
   ],
   "source": [
    "print('Area of Rectangle: ' , area_of_Rectangle(3,6))\n",
    "print('Area of Rectangle: ' , area_of_Rectangle(4,2))"
   ]
  },
  {
   "cell_type": "markdown",
   "metadata": {},
   "source": [
    "## Find area of Parallelogram.\n",
    "\n",
    "Formula: Area = b × h"
   ]
  },
  {
   "cell_type": "code",
   "execution_count": 28,
   "metadata": {},
   "outputs": [],
   "source": [
    "def area_of_Parallelogram(base,vertical_height):\n",
    "    return base * vertical_height"
   ]
  },
  {
   "cell_type": "code",
   "execution_count": 29,
   "metadata": {},
   "outputs": [
    {
     "name": "stdout",
     "output_type": "stream",
     "text": [
      "Area of Parallelogram:  335\n",
      "Area of Parallelogram:  3060\n"
     ]
    }
   ],
   "source": [
    "print('Area of Parallelogram: ' , area_of_Parallelogram(5,67))\n",
    "print('Area of Parallelogram: ' , area_of_Parallelogram(45,68))"
   ]
  },
  {
   "cell_type": "markdown",
   "metadata": {},
   "source": [
    "## Find area of Ellipse.\n",
    "\n",
    "Formula: Area = πab"
   ]
  },
  {
   "cell_type": "code",
   "execution_count": 31,
   "metadata": {},
   "outputs": [],
   "source": [
    "def area_of_Ellipse(a,b):\n",
    "    return math.pi * a * b"
   ]
  },
  {
   "cell_type": "code",
   "execution_count": 33,
   "metadata": {},
   "outputs": [
    {
     "name": "stdout",
     "output_type": "stream",
     "text": [
      "Area of Ellipse:  4046.3713378236534\n",
      "Area of Ellipse:  125.66370614359172\n"
     ]
    }
   ],
   "source": [
    "print('Area of Ellipse: ' , area_of_Ellipse(56,23))\n",
    "print('Area of Ellipse: ' , area_of_Ellipse(5,8))"
   ]
  },
  {
   "cell_type": "markdown",
   "metadata": {},
   "source": [
    "## Find area of Sector.\n",
    "\n",
    "Formula: Area = ½ × r2 × θ "
   ]
  },
  {
   "cell_type": "code",
   "execution_count": 44,
   "metadata": {},
   "outputs": [],
   "source": [
    "def area_of_Sector(r,angle):\n",
    "    return math.pi * (r ** 2) * (angle / 360)"
   ]
  },
  {
   "cell_type": "code",
   "execution_count": 45,
   "metadata": {},
   "outputs": [
    {
     "name": "stdout",
     "output_type": "stream",
     "text": [
      "Area of Sector:  6.283185307179586\n",
      "Area of Sector:  1.7453292519943298\n"
     ]
    }
   ],
   "source": [
    "print('Area of Sector: ' , area_of_Sector(4,45))\n",
    "print('Area of Sector: ' , area_of_Sector(5,8))"
   ]
  },
  {
   "cell_type": "code",
   "execution_count": null,
   "metadata": {},
   "outputs": [],
   "source": []
  }
 ],
 "metadata": {
  "kernelspec": {
   "display_name": "Python 3",
   "language": "python",
   "name": "python3"
  },
  "language_info": {
   "codemirror_mode": {
    "name": "ipython",
    "version": 3
   },
   "file_extension": ".py",
   "mimetype": "text/x-python",
   "name": "python",
   "nbconvert_exporter": "python",
   "pygments_lexer": "ipython3",
   "version": "3.6.4"
  }
 },
 "nbformat": 4,
 "nbformat_minor": 2
}
